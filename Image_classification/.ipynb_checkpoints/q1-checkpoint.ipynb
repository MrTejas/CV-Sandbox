{
 "cells": [
  {
   "cell_type": "markdown",
   "id": "c88857bd",
   "metadata": {},
   "source": [
    "### Importing Libraries"
   ]
  },
  {
   "cell_type": "code",
   "execution_count": 20,
   "id": "64762570",
   "metadata": {},
   "outputs": [],
   "source": [
    "#import external libraries\n",
    "import pandas as pd\n",
    "import numpy as np\n",
    "import matplotlib.pyplot as plt\n",
    "from sklearn.model_selection import train_test_split\n",
    "import os\n",
    "import math\n",
    "import wandb\n",
    "import cv2\n",
    "from sklearn.cluster import KMeans\n",
    "from sklearn.svm import LinearSVC\n",
    "from sklearn.pipeline import make_pipeline\n",
    "from sklearn.preprocessing import StandardScaler\n",
    "from sklearn.metrics import accuracy_score, classification_report\n",
    "from sklearn.decomposition import PCA as PCA2\n",
    "\n",
    "import torch\n",
    "import torchvision\n",
    "from torchvision import datasets, transforms\n",
    "from torch.utils.data import DataLoader, TensorDataset\n",
    "import torch.nn as nn\n",
    "import torch.nn.functional as F\n",
    "import torch.optim as optim\n",
    "\n",
    "%matplotlib inline\n"
   ]
  },
  {
   "cell_type": "markdown",
   "id": "26be5f72",
   "metadata": {},
   "source": [
    "### Defining random state, device and batch_size"
   ]
  },
  {
   "cell_type": "code",
   "execution_count": 21,
   "id": "a2e2b0c9",
   "metadata": {},
   "outputs": [],
   "source": [
    "random_seed = 42\n",
    "np.random.seed(random_seed)"
   ]
  },
  {
   "cell_type": "code",
   "execution_count": 22,
   "id": "309d5392",
   "metadata": {},
   "outputs": [
    {
     "name": "stdout",
     "output_type": "stream",
     "text": [
      "Device : cuda\n"
     ]
    }
   ],
   "source": [
    "device = 'cpu'\n",
    "if torch.cuda.is_available():\n",
    "    device = torch.device('cuda')\n",
    "print('Device :',device)\n",
    "\n",
    "import warnings\n",
    "warnings.filterwarnings(\"ignore\")\n"
   ]
  },
  {
   "cell_type": "code",
   "execution_count": 23,
   "id": "34c31d00",
   "metadata": {},
   "outputs": [],
   "source": [
    "batch_size = 100"
   ]
  },
  {
   "cell_type": "markdown",
   "id": "af718b07",
   "metadata": {},
   "source": [
    "### Loading the dataset"
   ]
  },
  {
   "cell_type": "code",
   "execution_count": 24,
   "id": "fa2a6af6",
   "metadata": {},
   "outputs": [
    {
     "name": "stdout",
     "output_type": "stream",
     "text": [
      "Training set size: 60000\n",
      "Test set size: 10000\n"
     ]
    }
   ],
   "source": [
    "# definind transform for the MNIST dataset\n",
    "# converting to tensors and normalize pixel vals with mean 0.5 and std-deviation 0.5\n",
    "transform = transforms.Compose([\n",
    "    transforms.ToTensor(), \n",
    "    transforms.Normalize(mean=(0.5), std=(0.5))\n",
    "])\n",
    "\n",
    "# Download and load the train set\n",
    "trainset = datasets.MNIST('~/.pytorch/MNIST_data/', download=True, train=True, transform=transform)\n",
    "trainloader = torch.utils.data.DataLoader(trainset, batch_size=batch_size, shuffle=True)\n",
    "\n",
    "# Download and load the test set\n",
    "testset = datasets.MNIST('~/.pytorch/MNIST_data/', download=True, train=False, transform=transform)\n",
    "testloader = torch.utils.data.DataLoader(testset, batch_size=batch_size, shuffle=False)\n",
    "\n",
    "print(\"Training set size:\", len(trainset))\n",
    "print(\"Test set size:\", len(testset))\n"
   ]
  },
  {
   "cell_type": "code",
   "execution_count": 25,
   "id": "620be78a",
   "metadata": {},
   "outputs": [
    {
     "name": "stdout",
     "output_type": "stream",
     "text": [
      "Batch of images shape: torch.Size([100, 1, 28, 28])\n",
      "Batch of labels shape: torch.Size([100])\n"
     ]
    }
   ],
   "source": [
    "# Accessing a batch of data\n",
    "dataiter = iter(trainloader)\n",
    "images, labels = next(dataiter)\n",
    "\n",
    "print(\"Batch of images shape:\", images.shape)\n",
    "print(\"Batch of labels shape:\", labels.shape)\n"
   ]
  },
  {
   "cell_type": "markdown",
   "id": "b75cfe98",
   "metadata": {},
   "source": [
    "# 1. Class for SIFT-SVM-BoVW\n",
    "\n",
    "Functions in the class \n",
    "\n",
    "- `__init__` : Initializes the datasets and vocabulary size\n",
    "\n",
    "- `getVocabulary` : Considers all train images and performs K-means on SIFT descriptors of the images to for k-clusters or k-sized vocabulary\n",
    "\n",
    "- `prepareData` : Consider a dataset (eg. trainset) and converts all images into the histogram representation with respect to the vocabulary created\n",
    "\n",
    "- `get_sift_feature` : Extracts and returns the SIFT descriptor for the input image\n",
    "\n",
    "- `train` and `test` : Use pipelined LinearSVM for fast training on the trainset and perform fast inference on the testset and return the accuracy"
   ]
  },
  {
   "cell_type": "code",
   "execution_count": 14,
   "id": "7a3544f0",
   "metadata": {},
   "outputs": [],
   "source": [
    "class SIFT_SVM:\n",
    "    def __init__(self, trainset, testset, vocabulary_size):\n",
    "        self.trainset = trainset\n",
    "        self.testset = testset\n",
    "        self.vocabulary_size = vocabulary_size\n",
    "        self.cluster_centers = self.getVocabulary(trainset,vocabulary_size)\n",
    "        self.prepareData()\n",
    "        \n",
    "    # gets SIFT descriptor for a single image\n",
    "    def get_sift_feature(self, image):\n",
    "        image = image.numpy()\n",
    "        gray = image.squeeze().astype(np.uint8)  # Convert to grayscale\n",
    "        sift = cv2.SIFT_create()\n",
    "        keypoints, descriptors = sift.detectAndCompute(gray, None)\n",
    "        return keypoints, descriptors\n",
    "    \n",
    "    # extracts sift features from the dataset and converts into BoVW vocabulary and returns it\n",
    "    def getVocabulary(self, dataset,size_vocabulary):\n",
    "        size_dataset = len(dataset)\n",
    "        sift_features = []\n",
    "\n",
    "        for i in range(size_dataset):\n",
    "            image, label = dataset[i]\n",
    "            keypoints, descriptors = self.get_sift_feature(image)\n",
    "            if descriptors is not None:\n",
    "                for descriptor in descriptors:\n",
    "                    sift_features.append(descriptor)\n",
    "\n",
    "        sift_features = np.array(sift_features)\n",
    "        num_clusters = size_vocabulary\n",
    "        kmeans = KMeans(n_clusters=num_clusters)\n",
    "        kmeans.fit(sift_features)\n",
    "        cluster_centers = kmeans.cluster_centers_\n",
    "        return cluster_centers\n",
    "    \n",
    "    def getFeatures(self,dataset):\n",
    "        size_dataset = len(dataset)\n",
    "        histograms = []\n",
    "        images = []\n",
    "        labels = []\n",
    "        for i in range(size_dataset):\n",
    "            # initializing histograms for each image\n",
    "            histogram = np.zeros((self.vocabulary_size,1))\n",
    "            image, label = dataset[i]\n",
    "            keypoints, descriptors = self.get_sift_feature(image)\n",
    "            if descriptors is not None:\n",
    "                images.append(image.numpy())\n",
    "                labels.append(label)\n",
    "                for descriptor in descriptors:\n",
    "                    descriptor = descriptor.reshape(1,-1) #reshaped tp (1,128)\n",
    "                    distances = np.linalg.norm(self.cluster_centers - descriptor, axis=1)\n",
    "                    min_distance_index = np.argmin(distances)\n",
    "                    histogram[min_distance_index] = histogram[min_distance_index]+1\n",
    "                histogram = np.array(histogram)\n",
    "                histograms.append(histogram)\n",
    "\n",
    "        histograms = np.array(histograms)\n",
    "        histograms = histograms.reshape((histograms.shape[0],histograms.shape[1]))\n",
    "        images = np.array(images)\n",
    "        images = np.reshape(images, (images.shape[0], 28, 28, 1))\n",
    "        labels = np.array(labels)\n",
    "        return histograms,images,labels\n",
    "    \n",
    "    # to convert the dataset into featurespace and do PCA (optional)\n",
    "    def prepareData(self,num_features=None):\n",
    "        self.X_train, self.train_images, self.y_train = self.getFeatures(self.trainset)\n",
    "        self.X_test, self.test_images, self.y_test = self.getFeatures(self.testset)\n",
    "        if num_features is not None:\n",
    "            self.X_train = self.reduceDimension(X_train, num_features)\n",
    "            self.X_test = self.reduceDimension(X_test, num_features)\n",
    "            \n",
    "    # function to plot feature histograms for some of the images\n",
    "    def plotHistograms(self, histograms, images, num_histograms):\n",
    "        selected_indices = np.random.choice(len(histograms), size=num_histograms, replace=False)\n",
    "        fig, axs = plt.subplots(num_histograms, 2, figsize=(10, 10))\n",
    "\n",
    "        for i, idx in enumerate(selected_indices):\n",
    "            axs[i, 0].imshow(images[idx], cmap='gray')\n",
    "            axs[i, 0].axis('off')\n",
    "            axs[i, 0].set_title('Image')\n",
    "            axs[i, 1].bar(range(len(histograms[idx])), histograms[idx])\n",
    "            axs[i, 1].set_title('Histogram')\n",
    "        plt.tight_layout()\n",
    "        plt.show()\n",
    "\n",
    "    def train(self):\n",
    "        self.svm_classifier_pipeline = make_pipeline(StandardScaler(), LinearSVC(dual = 'auto'))\n",
    "        self.svm_classifier_pipeline.fit(self.X_train,self.y_train)\n",
    "    \n",
    "    def test(self):\n",
    "        predicted_labels = self.svm_classifier_pipeline.predict(self.X_test)\n",
    "        accuracy = accuracy_score(self.y_test, predicted_labels)\n",
    "        return accuracy\n",
    "\n",
    "\n",
    "        "
   ]
  },
  {
   "cell_type": "markdown",
   "id": "aeebd531",
   "metadata": {},
   "source": [
    "### Example run of the model"
   ]
  },
  {
   "cell_type": "code",
   "execution_count": 19,
   "id": "2f33c2db",
   "metadata": {},
   "outputs": [
    {
     "name": "stdout",
     "output_type": "stream",
     "text": [
      "Accuracy :  0.7542185616713539\n"
     ]
    }
   ],
   "source": [
    "num_clusters = 100\n",
    "model = SIFT_SVM(trainset,testset,num_clusters)\n",
    "model.train()\n",
    "acc = model.test()\n",
    "print(\"Accuracy : \",acc)"
   ]
  },
  {
   "cell_type": "code",
   "execution_count": 20,
   "id": "a304ffce",
   "metadata": {},
   "outputs": [
    {
     "name": "stdout",
     "output_type": "stream",
     "text": [
      "Accuracy :  0.7542185616713539\n"
     ]
    }
   ],
   "source": [
    "acc = model.test()\n",
    "print(\"Accuracy : \",acc)"
   ]
  },
  {
   "cell_type": "markdown",
   "id": "dcc5d960",
   "metadata": {},
   "source": [
    "### Plotting Features Histograms for few images"
   ]
  },
  {
   "cell_type": "code",
   "execution_count": 21,
   "id": "0067bdd2",
   "metadata": {},
   "outputs": [
    {
     "data": {
      "image/png": "[encoded data removed]",
      "text/plain": [
       "<Figure size 1000x1000 with 10 Axes>"
      ]
     },
     "metadata": {},
     "output_type": "display_data"
    }
   ],
   "source": [
    "model.plotHistograms(model.X_train,model.train_images,5)"
   ]
  },
  {
   "cell_type": "markdown",
   "id": "65924b89",
   "metadata": {},
   "source": [
    "### Cluster Centers or Vocabulary"
   ]
  },
  {
   "cell_type": "code",
   "execution_count": 22,
   "id": "359dd289",
   "metadata": {},
   "outputs": [
    {
     "name": "stdout",
     "output_type": "stream",
     "text": [
      "Cluster Centers : \n",
      " [[1.1132140e+01 3.0255709e+00 5.3984184e+00 ... 8.5940361e-03\n",
      "  2.2185326e-02 5.9361076e-01]\n",
      " [1.6350899e+00 1.8524780e+00 1.7809780e+01 ... 1.6997337e-01\n",
      "  6.8628311e-02 5.5081801e+00]\n",
      " [9.4494686e+00 2.0599522e+01 6.8960968e+01 ... 7.2164774e-02\n",
      "  5.3535938e-02 1.3344736e+00]\n",
      " ...\n",
      " [8.0589361e+00 1.6764069e+01 4.2367977e+01 ... 1.2289524e-02\n",
      "  5.7130337e-02 1.1775551e+00]\n",
      " [1.6458065e+01 2.2725355e+01 4.8776611e+01 ... 4.8895645e-01\n",
      "  2.9821968e-01 1.4966249e+00]\n",
      " [1.9423542e+00 1.8798046e+01 5.5754303e+01 ... 4.4123540e+00\n",
      "  5.1765728e+00 7.9762077e-01]]\n"
     ]
    }
   ],
   "source": [
    "cluster_centers = model.cluster_centers\n",
    "print(\"Cluster Centers : \\n\",cluster_centers)"
   ]
  },
  {
   "cell_type": "markdown",
   "id": "048dd52f",
   "metadata": {},
   "source": [
    "# 2. Plotting how accuracy changes with numbe of clusters"
   ]
  },
  {
   "cell_type": "code",
   "execution_count": 23,
   "id": "7f77bd9e",
   "metadata": {},
   "outputs": [
    {
     "name": "stdout",
     "output_type": "stream",
     "text": [
      "For  10  clusters, Accuracy =  0.4255725190839695\n",
      "For  20  clusters, Accuracy =  0.5210928083567697\n",
      "For  40  clusters, Accuracy =  0.6458417034953796\n",
      "For  80  clusters, Accuracy =  0.734933708316593\n",
      "For  140  clusters, Accuracy =  0.7791281639212535\n",
      "For  200  clusters, Accuracy =  0.8127762153475291\n"
     ]
    }
   ],
   "source": [
    "num_clusters_values = [10,20,40,80,140,200]\n",
    "accuracies = []\n",
    "\n",
    "for num_clusters in num_clusters_values:\n",
    "    model = SIFT_SVM(trainset,testset,num_clusters)\n",
    "    model.train()\n",
    "    acc = model.test()\n",
    "    accuracies.append(acc)\n",
    "    print(\"For \",num_clusters,\" clusters, Accuracy = \",acc)"
   ]
  },
  {
   "cell_type": "code",
   "execution_count": 27,
   "id": "78f1069e",
   "metadata": {
    "scrolled": false
   },
   "outputs": [
    {
     "data": {
      "image/png": "[encoded data removed]",
      "text/plain": [
       "<Figure size 640x480 with 1 Axes>"
      ]
     },
     "metadata": {},
     "output_type": "display_data"
    }
   ],
   "source": [
    "plt.plot(num_clusters_values, accuracies, marker='o', linestyle='-')\n",
    "plt.xlabel('Number of Clusters')\n",
    "plt.ylabel('Accuracy')\n",
    "plt.title('Accuracy vs Number of Clusters')\n",
    "plt.grid(True)\n",
    "plt.show()\n"
   ]
  },
  {
   "cell_type": "markdown",
   "id": "f562e12b",
   "metadata": {},
   "source": [
    "### Observations and explanation of trend\n",
    "\n",
    "- We can clearly see that as we increase the number of clusters (i.e. the size of the vocabulary) the accuracy increases. Ofcourse this accuracy starts to saturate after large number of clusters. More the number of clusters, greater the size of the vocabulary for BoVW representation. Thus, each image can be represented more accurately by the BoVW histogram. \n",
    "\n",
    "- For example, if we keep the number of clusters to 10, it simply means that we need to represent each image using a histogram having 10 bins. Since each image must be displayed differently, this directly means that each cluster center is alloted to exactly one label. Thus, it is the simple case of just K-means clustering.\n",
    "\n",
    "- However, if we increase the number of clusters, the feature space also increases. Therefore, we have more freedom to represent our images as a combination of the individual words of the vocabulary and thus images have better representation in the feature space, directly relating to better dataset for the SVM and better results in terms of accuracy. "
   ]
  },
  {
   "cell_type": "markdown",
   "id": "5f01e5f0",
   "metadata": {},
   "source": [
    "# 3. Trends in Hyperparameters"
   ]
  },
  {
   "cell_type": "code",
   "execution_count": 26,
   "id": "d3753284",
   "metadata": {},
   "outputs": [],
   "source": [
    "# class with hyperparameter tuning available and wandb logging\n",
    "class My_SIFT_SVM:\n",
    "    def __init__(self, trainset, testset, vocabulary_size,regularization_parameter, max_iter):\n",
    "        self.trainset = trainset\n",
    "        self.testset = testset\n",
    "        self.vocabulary_size = vocabulary_size\n",
    "        self.cluster_centers = self.getVocabulary(trainset,vocabulary_size)\n",
    "        self.prepareData()\n",
    "        self.C = regularization_parameter\n",
    "        self.max_iter = max_iter\n",
    "        \n",
    "        \n",
    "        # configuring and initializing wandb for logging the run\n",
    "        config = {\"regularization_parameter\": self.C, \"max_iter\": self.max_iter}\n",
    "        wandb.init(project=\"SIFT-SVM-MoVW-3\",config=config)  # Initialize wandb\n",
    "\n",
    "        \n",
    "    # gets SIFT descriptor for a single image\n",
    "    def get_sift_feature(self, image):\n",
    "        image = image.numpy()\n",
    "        gray = image.squeeze().astype(np.uint8)  # Convert to grayscale\n",
    "        sift = cv2.SIFT_create()\n",
    "        keypoints, descriptors = sift.detectAndCompute(gray, None)\n",
    "        return keypoints, descriptors\n",
    "    \n",
    "    # extracts sift features from the dataset and converts into BoVW vocabulary and returns it\n",
    "    def getVocabulary(self, dataset,size_vocabulary):\n",
    "        size_dataset = len(dataset)\n",
    "        sift_features = []\n",
    "\n",
    "        for i in range(size_dataset):\n",
    "            image, label = dataset[i]\n",
    "            keypoints, descriptors = self.get_sift_feature(image)\n",
    "            if descriptors is not None:\n",
    "                for descriptor in descriptors:\n",
    "                    sift_features.append(descriptor)\n",
    "\n",
    "        sift_features = np.array(sift_features)\n",
    "        num_clusters = size_vocabulary\n",
    "        kmeans = KMeans(n_clusters=num_clusters)\n",
    "        kmeans.fit(sift_features)\n",
    "        cluster_centers = kmeans.cluster_centers_\n",
    "        return cluster_centers\n",
    "    \n",
    "    def getFeatures(self,dataset):\n",
    "        size_dataset = len(dataset)\n",
    "        histograms = []\n",
    "        images = []\n",
    "        labels = []\n",
    "        for i in range(size_dataset):\n",
    "            # initializing histograms for each image\n",
    "            histogram = np.zeros((self.vocabulary_size,1))\n",
    "            image, label = dataset[i]\n",
    "            keypoints, descriptors = self.get_sift_feature(image)\n",
    "            if descriptors is not None:\n",
    "                images.append(image.numpy())\n",
    "                labels.append(label)\n",
    "                for descriptor in descriptors:\n",
    "                    descriptor = descriptor.reshape(1,-1) #reshaped tp (1,128)\n",
    "                    distances = np.linalg.norm(self.cluster_centers - descriptor, axis=1)\n",
    "                    min_distance_index = np.argmin(distances)\n",
    "                    histogram[min_distance_index] = histogram[min_distance_index]+1\n",
    "                histogram = np.array(histogram)\n",
    "                histograms.append(histogram)\n",
    "\n",
    "        histograms = np.array(histograms)\n",
    "        histograms = histograms.reshape((histograms.shape[0],histograms.shape[1]))\n",
    "        images = np.array(images)\n",
    "        images = np.reshape(images, (images.shape[0], 28, 28, 1))\n",
    "        labels = np.array(labels)\n",
    "        return histograms,images,labels\n",
    "    \n",
    "    # to convert the dataset into featurespace and do PCA (optional)\n",
    "    def prepareData(self,num_features=None):\n",
    "        self.X_train, self.train_images, self.y_train = self.getFeatures(self.trainset)\n",
    "        self.X_test, self.test_images, self.y_test = self.getFeatures(self.testset)\n",
    "        if num_features is not None:\n",
    "            self.X_train = self.reduceDimension(X_train, num_features)\n",
    "            self.X_test = self.reduceDimension(X_test, num_features)\n",
    "            \n",
    "    # function to plot feature histograms for some of the images\n",
    "    def plotHistograms(self, histograms, images, num_histograms):\n",
    "        selected_indices = np.random.choice(len(histograms), size=num_histograms, replace=False)\n",
    "        fig, axs = plt.subplots(num_histograms, 2, figsize=(10, 10))\n",
    "\n",
    "        for i, idx in enumerate(selected_indices):\n",
    "            axs[i, 0].imshow(images[idx], cmap='gray')\n",
    "            axs[i, 0].axis('off')\n",
    "            axs[i, 0].set_title('Image')\n",
    "            axs[i, 1].bar(range(len(histograms[idx])), histograms[idx])\n",
    "            axs[i, 1].set_title('Histogram')\n",
    "        plt.tight_layout()\n",
    "        plt.show()\n",
    "\n",
    "    def train(self):\n",
    "        self.svm_classifier_pipeline = make_pipeline(StandardScaler(), LinearSVC(dual = 'auto', C=self.C, max_iter=self.max_iter))\n",
    "        self.svm_classifier_pipeline.fit(self.X_train,self.y_train)\n",
    "    \n",
    "    def test(self):\n",
    "        predicted_labels = self.svm_classifier_pipeline.predict(self.X_test)\n",
    "        self.accuracy = accuracy_score(self.y_test, predicted_labels)\n",
    "        wandb.log({\"Accuracy\": self.accuracy})  # Log accuracy\n",
    "        return self.accuracy\n",
    "\n",
    "\n",
    "        "
   ]
  },
  {
   "cell_type": "markdown",
   "id": "df057329",
   "metadata": {},
   "source": [
    "### Keeping the number of clusters = 200 (best performance from previous part)\n",
    "\n",
    "Hyperparameters tuned are :\n",
    "1. `regularization_parameter` (C) : Decides the tradeoff between maximizing margin and minimizing training error. Values used are [0.001, 0.01] \n",
    "2. `max_iteration` : The maximum number of iterations to be run. Values used are  [1000, 2000, 3000]\n"
   ]
  },
  {
   "cell_type": "code",
   "execution_count": 27,
   "id": "e59321f4",
   "metadata": {},
   "outputs": [
    {
     "name": "stderr",
     "output_type": "stream",
     "text": [
      "\u001b[34m\u001b[1mwandb\u001b[0m: Currently logged in as: \u001b[33mtejas591995\u001b[0m. Use \u001b[1m`wandb login --relogin`\u001b[0m to force relogin\n"
     ]
    },
    {
     "data": {
      "text/html": [
       "Tracking run with wandb version 0.16.4"
      ],
      "text/plain": [
       "<IPython.core.display.HTML object>"
      ]
     },
     "metadata": {},
     "output_type": "display_data"
    },
    {
     "data": {
      "text/html": [
       "Run data is saved locally in <code>C:\\Users\\hp\\Desktop\\CV\\Assignment_2\\wandb\\run-20240309_105223-qi8utcax</code>"
      ],
      "text/plain": [
       "<IPython.core.display.HTML object>"
      ]
     },
     "metadata": {},
     "output_type": "display_data"
    },
    {
     "data": {
      "text/html": [
       "Syncing run <strong><a href='https://wandb.ai/tejas591995/SIFT-SVM-MoVW-3/runs/qi8utcax' target=\"_blank\">stellar-water-1</a></strong> to <a href='https://wandb.ai/tejas591995/SIFT-SVM-MoVW-3' target=\"_blank\">Weights & Biases</a> (<a href='https://wandb.me/run' target=\"_blank\">docs</a>)<br/>"
      ],
      "text/plain": [
       "<IPython.core.display.HTML object>"
      ]
     },
     "metadata": {},
     "output_type": "display_data"
    },
    {
     "data": {
      "text/html": [
       " View project at <a href='https://wandb.ai/tejas591995/SIFT-SVM-MoVW-3' target=\"_blank\">https://wandb.ai/tejas591995/SIFT-SVM-MoVW-3</a>"
      ],
      "text/plain": [
       "<IPython.core.display.HTML object>"
      ]
     },
     "metadata": {},
     "output_type": "display_data"
    },
    {
     "data": {
      "text/html": [
       " View run at <a href='https://wandb.ai/tejas591995/SIFT-SVM-MoVW-3/runs/qi8utcax' target=\"_blank\">https://wandb.ai/tejas591995/SIFT-SVM-MoVW-3/runs/qi8utcax</a>"
      ],
      "text/plain": [
       "<IPython.core.display.HTML object>"
      ]
     },
     "metadata": {},
     "output_type": "display_data"
    },
    {
     "name": "stdout",
     "output_type": "stream",
     "text": [
      "C =  0.001  and max_iterations =  1000  Accuracy :  0.8024306950582564\n"
     ]
    },
    {
     "data": {
      "text/html": [
       "Finishing last run (ID:qi8utcax) before initializing another..."
      ],
      "text/plain": [
       "<IPython.core.display.HTML object>"
      ]
     },
     "metadata": {},
     "output_type": "display_data"
    },
    {
     "data": {
      "application/vnd.jupyter.widget-view+json": {
       "model_id": "",
       "version_major": 2,
       "version_minor": 0
      },
      "text/plain": [
       "VBox(children=(Label(value='0.001 MB of 0.001 MB uploaded\\r'), FloatProgress(value=1.0, max=1.0)))"
      ]
     },
     "metadata": {},
     "output_type": "display_data"
    },
    {
     "data": {
      "text/html": [
       "<style>\n",
       "    table.wandb td:nth-child(1) { padding: 0 10px; text-align: left ; width: auto;} td:nth-child(2) {text-align: left ; width: 100%}\n",
       "    .wandb-row { display: flex; flex-direction: row; flex-wrap: wrap; justify-content: flex-start; width: 100% }\n",
       "    .wandb-col { display: flex; flex-direction: column; flex-basis: 100%; flex: 1; padding: 10px; }\n",
       "    </style>\n",
       "<div class=\"wandb-row\"><div class=\"wandb-col\"><h3>Run history:</h3><br/><table class=\"wandb\"><tr><td>Accuracy</td><td>▁</td></tr></table><br/></div><div class=\"wandb-col\"><h3>Run summary:</h3><br/><table class=\"wandb\"><tr><td>Accuracy</td><td>0.80243</td></tr></table><br/></div></div>"
      ],
      "text/plain": [
       "<IPython.core.display.HTML object>"
      ]
     },
     "metadata": {},
     "output_type": "display_data"
    },
    {
     "data": {
      "text/html": [
       " View run <strong style=\"color:#cdcd00\">stellar-water-1</strong> at: <a href='https://wandb.ai/tejas591995/SIFT-SVM-MoVW-3/runs/qi8utcax' target=\"_blank\">https://wandb.ai/tejas591995/SIFT-SVM-MoVW-3/runs/qi8utcax</a><br/>Synced 6 W&B file(s), 0 media file(s), 0 artifact file(s) and 0 other file(s)"
      ],
      "text/plain": [
       "<IPython.core.display.HTML object>"
      ]
     },
     "metadata": {},
     "output_type": "display_data"
    },
    {
     "data": {
      "text/html": [
       "Find logs at: <code>.\\wandb\\run-20240309_105223-qi8utcax\\logs</code>"
      ],
      "text/plain": [
       "<IPython.core.display.HTML object>"
      ]
     },
     "metadata": {},
     "output_type": "display_data"
    },
    {
     "data": {
      "text/html": [
       "Successfully finished last run (ID:qi8utcax). Initializing new run:<br/>"
      ],
      "text/plain": [
       "<IPython.core.display.HTML object>"
      ]
     },
     "metadata": {},
     "output_type": "display_data"
    },
    {
     "data": {
      "application/vnd.jupyter.widget-view+json": {
       "model_id": "0ec6355dcecb46cdb268657fc476d1ce",
       "version_major": 2,
       "version_minor": 0
      },
      "text/plain": [
       "VBox(children=(Label(value='Waiting for wandb.init()...\\r'), FloatProgress(value=0.011111111111111112, max=1.0…"
      ]
     },
     "metadata": {},
     "output_type": "display_data"
    },
    {
     "data": {
      "text/html": [
       "Tracking run with wandb version 0.16.4"
      ],
      "text/plain": [
       "<IPython.core.display.HTML object>"
      ]
     },
     "metadata": {},
     "output_type": "display_data"
    },
    {
     "data": {
      "text/html": [
       "Run data is saved locally in <code>C:\\Users\\hp\\Desktop\\CV\\Assignment_2\\wandb\\run-20240309_111023-1tkaifwf</code>"
      ],
      "text/plain": [
       "<IPython.core.display.HTML object>"
      ]
     },
     "metadata": {},
     "output_type": "display_data"
    },
    {
     "data": {
      "text/html": [
       "Syncing run <strong><a href='https://wandb.ai/tejas591995/SIFT-SVM-MoVW-3/runs/1tkaifwf' target=\"_blank\">distinctive-dream-2</a></strong> to <a href='https://wandb.ai/tejas591995/SIFT-SVM-MoVW-3' target=\"_blank\">Weights & Biases</a> (<a href='https://wandb.me/run' target=\"_blank\">docs</a>)<br/>"
      ],
      "text/plain": [
       "<IPython.core.display.HTML object>"
      ]
     },
     "metadata": {},
     "output_type": "display_data"
    },
    {
     "data": {
      "text/html": [
       " View project at <a href='https://wandb.ai/tejas591995/SIFT-SVM-MoVW-3' target=\"_blank\">https://wandb.ai/tejas591995/SIFT-SVM-MoVW-3</a>"
      ],
      "text/plain": [
       "<IPython.core.display.HTML object>"
      ]
     },
     "metadata": {},
     "output_type": "display_data"
    },
    {
     "data": {
      "text/html": [
       " View run at <a href='https://wandb.ai/tejas591995/SIFT-SVM-MoVW-3/runs/1tkaifwf' target=\"_blank\">https://wandb.ai/tejas591995/SIFT-SVM-MoVW-3/runs/1tkaifwf</a>"
      ],
      "text/plain": [
       "<IPython.core.display.HTML object>"
      ]
     },
     "metadata": {},
     "output_type": "display_data"
    },
    {
     "name": "stdout",
     "output_type": "stream",
     "text": [
      "C =  0.001  and max_iterations =  2000  Accuracy :  0.799517878666131\n"
     ]
    },
    {
     "data": {
      "text/html": [
       "Finishing last run (ID:1tkaifwf) before initializing another..."
      ],
      "text/plain": [
       "<IPython.core.display.HTML object>"
      ]
     },
     "metadata": {},
     "output_type": "display_data"
    },
    {
     "data": {
      "application/vnd.jupyter.widget-view+json": {
       "model_id": "",
       "version_major": 2,
       "version_minor": 0
      },
      "text/plain": [
       "VBox(children=(Label(value='0.001 MB of 0.027 MB uploaded\\r'), FloatProgress(value=0.04425241297606188, max=1.…"
      ]
     },
     "metadata": {},
     "output_type": "display_data"
    },
    {
     "data": {
      "text/html": [
       "<style>\n",
       "    table.wandb td:nth-child(1) { padding: 0 10px; text-align: left ; width: auto;} td:nth-child(2) {text-align: left ; width: 100%}\n",
       "    .wandb-row { display: flex; flex-direction: row; flex-wrap: wrap; justify-content: flex-start; width: 100% }\n",
       "    .wandb-col { display: flex; flex-direction: column; flex-basis: 100%; flex: 1; padding: 10px; }\n",
       "    </style>\n",
       "<div class=\"wandb-row\"><div class=\"wandb-col\"><h3>Run history:</h3><br/><table class=\"wandb\"><tr><td>Accuracy</td><td>▁</td></tr></table><br/></div><div class=\"wandb-col\"><h3>Run summary:</h3><br/><table class=\"wandb\"><tr><td>Accuracy</td><td>0.79952</td></tr></table><br/></div></div>"
      ],
      "text/plain": [
       "<IPython.core.display.HTML object>"
      ]
     },
     "metadata": {},
     "output_type": "display_data"
    },
    {
     "data": {
      "text/html": [
       " View run <strong style=\"color:#cdcd00\">distinctive-dream-2</strong> at: <a href='https://wandb.ai/tejas591995/SIFT-SVM-MoVW-3/runs/1tkaifwf' target=\"_blank\">https://wandb.ai/tejas591995/SIFT-SVM-MoVW-3/runs/1tkaifwf</a><br/>Synced 6 W&B file(s), 0 media file(s), 0 artifact file(s) and 0 other file(s)"
      ],
      "text/plain": [
       "<IPython.core.display.HTML object>"
      ]
     },
     "metadata": {},
     "output_type": "display_data"
    },
    {
     "data": {
      "text/html": [
       "Find logs at: <code>.\\wandb\\run-20240309_111023-1tkaifwf\\logs</code>"
      ],
      "text/plain": [
       "<IPython.core.display.HTML object>"
      ]
     },
     "metadata": {},
     "output_type": "display_data"
    },
    {
     "data": {
      "text/html": [
       "Successfully finished last run (ID:1tkaifwf). Initializing new run:<br/>"
      ],
      "text/plain": [
       "<IPython.core.display.HTML object>"
      ]
     },
     "metadata": {},
     "output_type": "display_data"
    },
    {
     "data": {
      "application/vnd.jupyter.widget-view+json": {
       "model_id": "1080de306c69464b851af25e6cceb7c0",
       "version_major": 2,
       "version_minor": 0
      },
      "text/plain": [
       "VBox(children=(Label(value='Waiting for wandb.init()...\\r'), FloatProgress(value=0.011288888888884685, max=1.0…"
      ]
     },
     "metadata": {},
     "output_type": "display_data"
    },
    {
     "data": {
      "text/html": [
       "Tracking run with wandb version 0.16.4"
      ],
      "text/plain": [
       "<IPython.core.display.HTML object>"
      ]
     },
     "metadata": {},
     "output_type": "display_data"
    },
    {
     "data": {
      "text/html": [
       "Run data is saved locally in <code>C:\\Users\\hp\\Desktop\\CV\\Assignment_2\\wandb\\run-20240309_112912-b7xuvjw1</code>"
      ],
      "text/plain": [
       "<IPython.core.display.HTML object>"
      ]
     },
     "metadata": {},
     "output_type": "display_data"
    },
    {
     "data": {
      "text/html": [
       "Syncing run <strong><a href='https://wandb.ai/tejas591995/SIFT-SVM-MoVW-3/runs/b7xuvjw1' target=\"_blank\">toasty-darkness-3</a></strong> to <a href='https://wandb.ai/tejas591995/SIFT-SVM-MoVW-3' target=\"_blank\">Weights & Biases</a> (<a href='https://wandb.me/run' target=\"_blank\">docs</a>)<br/>"
      ],
      "text/plain": [
       "<IPython.core.display.HTML object>"
      ]
     },
     "metadata": {},
     "output_type": "display_data"
    },
    {
     "data": {
      "text/html": [
       " View project at <a href='https://wandb.ai/tejas591995/SIFT-SVM-MoVW-3' target=\"_blank\">https://wandb.ai/tejas591995/SIFT-SVM-MoVW-3</a>"
      ],
      "text/plain": [
       "<IPython.core.display.HTML object>"
      ]
     },
     "metadata": {},
     "output_type": "display_data"
    },
    {
     "data": {
      "text/html": [
       " View run at <a href='https://wandb.ai/tejas591995/SIFT-SVM-MoVW-3/runs/b7xuvjw1' target=\"_blank\">https://wandb.ai/tejas591995/SIFT-SVM-MoVW-3/runs/b7xuvjw1</a>"
      ],
      "text/plain": [
       "<IPython.core.display.HTML object>"
      ]
     },
     "metadata": {},
     "output_type": "display_data"
    },
    {
     "name": "stdout",
     "output_type": "stream",
     "text": [
      "C =  0.001  and max_iterations =  3000  Accuracy :  0.7949979911611089\n"
     ]
    },
    {
     "data": {
      "text/html": [
       "Finishing last run (ID:b7xuvjw1) before initializing another..."
      ],
      "text/plain": [
       "<IPython.core.display.HTML object>"
      ]
     },
     "metadata": {},
     "output_type": "display_data"
    },
    {
     "data": {
      "application/vnd.jupyter.widget-view+json": {
       "model_id": "",
       "version_major": 2,
       "version_minor": 0
      },
      "text/plain": [
       "VBox(children=(Label(value='0.001 MB of 0.001 MB uploaded\\r'), FloatProgress(value=1.0, max=1.0)))"
      ]
     },
     "metadata": {},
     "output_type": "display_data"
    },
    {
     "data": {
      "text/html": [
       "<style>\n",
       "    table.wandb td:nth-child(1) { padding: 0 10px; text-align: left ; width: auto;} td:nth-child(2) {text-align: left ; width: 100%}\n",
       "    .wandb-row { display: flex; flex-direction: row; flex-wrap: wrap; justify-content: flex-start; width: 100% }\n",
       "    .wandb-col { display: flex; flex-direction: column; flex-basis: 100%; flex: 1; padding: 10px; }\n",
       "    </style>\n",
       "<div class=\"wandb-row\"><div class=\"wandb-col\"><h3>Run history:</h3><br/><table class=\"wandb\"><tr><td>Accuracy</td><td>▁</td></tr></table><br/></div><div class=\"wandb-col\"><h3>Run summary:</h3><br/><table class=\"wandb\"><tr><td>Accuracy</td><td>0.795</td></tr></table><br/></div></div>"
      ],
      "text/plain": [
       "<IPython.core.display.HTML object>"
      ]
     },
     "metadata": {},
     "output_type": "display_data"
    },
    {
     "data": {
      "text/html": [
       " View run <strong style=\"color:#cdcd00\">toasty-darkness-3</strong> at: <a href='https://wandb.ai/tejas591995/SIFT-SVM-MoVW-3/runs/b7xuvjw1' target=\"_blank\">https://wandb.ai/tejas591995/SIFT-SVM-MoVW-3/runs/b7xuvjw1</a><br/>Synced 6 W&B file(s), 0 media file(s), 0 artifact file(s) and 0 other file(s)"
      ],
      "text/plain": [
       "<IPython.core.display.HTML object>"
      ]
     },
     "metadata": {},
     "output_type": "display_data"
    },
    {
     "data": {
      "text/html": [
       "Find logs at: <code>.\\wandb\\run-20240309_112912-b7xuvjw1\\logs</code>"
      ],
      "text/plain": [
       "<IPython.core.display.HTML object>"
      ]
     },
     "metadata": {},
     "output_type": "display_data"
    },
    {
     "data": {
      "text/html": [
       "Successfully finished last run (ID:b7xuvjw1). Initializing new run:<br/>"
      ],
      "text/plain": [
       "<IPython.core.display.HTML object>"
      ]
     },
     "metadata": {},
     "output_type": "display_data"
    },
    {
     "data": {
      "application/vnd.jupyter.widget-view+json": {
       "model_id": "c05757a363f74c6fb179e7c4c58724a1",
       "version_major": 2,
       "version_minor": 0
      },
      "text/plain": [
       "VBox(children=(Label(value='Waiting for wandb.init()...\\r'), FloatProgress(value=0.011111111111111112, max=1.0…"
      ]
     },
     "metadata": {},
     "output_type": "display_data"
    },
    {
     "data": {
      "text/html": [
       "Tracking run with wandb version 0.16.4"
      ],
      "text/plain": [
       "<IPython.core.display.HTML object>"
      ]
     },
     "metadata": {},
     "output_type": "display_data"
    },
    {
     "data": {
      "text/html": [
       "Run data is saved locally in <code>C:\\Users\\hp\\Desktop\\CV\\Assignment_2\\wandb\\run-20240309_114744-70nuandn</code>"
      ],
      "text/plain": [
       "<IPython.core.display.HTML object>"
      ]
     },
     "metadata": {},
     "output_type": "display_data"
    },
    {
     "data": {
      "text/html": [
       "Syncing run <strong><a href='https://wandb.ai/tejas591995/SIFT-SVM-MoVW-3/runs/70nuandn' target=\"_blank\">dazzling-breeze-4</a></strong> to <a href='https://wandb.ai/tejas591995/SIFT-SVM-MoVW-3' target=\"_blank\">Weights & Biases</a> (<a href='https://wandb.me/run' target=\"_blank\">docs</a>)<br/>"
      ],
      "text/plain": [
       "<IPython.core.display.HTML object>"
      ]
     },
     "metadata": {},
     "output_type": "display_data"
    },
    {
     "data": {
      "text/html": [
       " View project at <a href='https://wandb.ai/tejas591995/SIFT-SVM-MoVW-3' target=\"_blank\">https://wandb.ai/tejas591995/SIFT-SVM-MoVW-3</a>"
      ],
      "text/plain": [
       "<IPython.core.display.HTML object>"
      ]
     },
     "metadata": {},
     "output_type": "display_data"
    },
    {
     "data": {
      "text/html": [
       " View run at <a href='https://wandb.ai/tejas591995/SIFT-SVM-MoVW-3/runs/70nuandn' target=\"_blank\">https://wandb.ai/tejas591995/SIFT-SVM-MoVW-3/runs/70nuandn</a>"
      ],
      "text/plain": [
       "<IPython.core.display.HTML object>"
      ]
     },
     "metadata": {},
     "output_type": "display_data"
    },
    {
     "name": "stdout",
     "output_type": "stream",
     "text": [
      "C =  0.01  and max_iterations =  1000  Accuracy :  0.8036359983929289\n"
     ]
    },
    {
     "data": {
      "text/html": [
       "Finishing last run (ID:70nuandn) before initializing another..."
      ],
      "text/plain": [
       "<IPython.core.display.HTML object>"
      ]
     },
     "metadata": {},
     "output_type": "display_data"
    },
    {
     "data": {
      "application/vnd.jupyter.widget-view+json": {
       "model_id": "",
       "version_major": 2,
       "version_minor": 0
      },
      "text/plain": [
       "VBox(children=(Label(value='0.001 MB of 0.027 MB uploaded\\r'), FloatProgress(value=0.04449968489601568, max=1.…"
      ]
     },
     "metadata": {},
     "output_type": "display_data"
    },
    {
     "data": {
      "text/html": [
       "<style>\n",
       "    table.wandb td:nth-child(1) { padding: 0 10px; text-align: left ; width: auto;} td:nth-child(2) {text-align: left ; width: 100%}\n",
       "    .wandb-row { display: flex; flex-direction: row; flex-wrap: wrap; justify-content: flex-start; width: 100% }\n",
       "    .wandb-col { display: flex; flex-direction: column; flex-basis: 100%; flex: 1; padding: 10px; }\n",
       "    </style>\n",
       "<div class=\"wandb-row\"><div class=\"wandb-col\"><h3>Run history:</h3><br/><table class=\"wandb\"><tr><td>Accuracy</td><td>▁</td></tr></table><br/></div><div class=\"wandb-col\"><h3>Run summary:</h3><br/><table class=\"wandb\"><tr><td>Accuracy</td><td>0.80364</td></tr></table><br/></div></div>"
      ],
      "text/plain": [
       "<IPython.core.display.HTML object>"
      ]
     },
     "metadata": {},
     "output_type": "display_data"
    },
    {
     "data": {
      "text/html": [
       " View run <strong style=\"color:#cdcd00\">dazzling-breeze-4</strong> at: <a href='https://wandb.ai/tejas591995/SIFT-SVM-MoVW-3/runs/70nuandn' target=\"_blank\">https://wandb.ai/tejas591995/SIFT-SVM-MoVW-3/runs/70nuandn</a><br/>Synced 6 W&B file(s), 0 media file(s), 0 artifact file(s) and 0 other file(s)"
      ],
      "text/plain": [
       "<IPython.core.display.HTML object>"
      ]
     },
     "metadata": {},
     "output_type": "display_data"
    },
    {
     "data": {
      "text/html": [
       "Find logs at: <code>.\\wandb\\run-20240309_114744-70nuandn\\logs</code>"
      ],
      "text/plain": [
       "<IPython.core.display.HTML object>"
      ]
     },
     "metadata": {},
     "output_type": "display_data"
    },
    {
     "data": {
      "text/html": [
       "Successfully finished last run (ID:70nuandn). Initializing new run:<br/>"
      ],
      "text/plain": [
       "<IPython.core.display.HTML object>"
      ]
     },
     "metadata": {},
     "output_type": "display_data"
    },
    {
     "data": {
      "application/vnd.jupyter.widget-view+json": {
       "model_id": "7d366e78563d499f82d667be355f3969",
       "version_major": 2,
       "version_minor": 0
      },
      "text/plain": [
       "VBox(children=(Label(value='Waiting for wandb.init()...\\r'), FloatProgress(value=0.011111111111111112, max=1.0…"
      ]
     },
     "metadata": {},
     "output_type": "display_data"
    },
    {
     "data": {
      "text/html": [
       "Tracking run with wandb version 0.16.4"
      ],
      "text/plain": [
       "<IPython.core.display.HTML object>"
      ]
     },
     "metadata": {},
     "output_type": "display_data"
    },
    {
     "data": {
      "text/html": [
       "Run data is saved locally in <code>C:\\Users\\hp\\Desktop\\CV\\Assignment_2\\wandb\\run-20240309_120532-rlw9hnn1</code>"
      ],
      "text/plain": [
       "<IPython.core.display.HTML object>"
      ]
     },
     "metadata": {},
     "output_type": "display_data"
    },
    {
     "data": {
      "text/html": [
       "Syncing run <strong><a href='https://wandb.ai/tejas591995/SIFT-SVM-MoVW-3/runs/rlw9hnn1' target=\"_blank\">dashing-sun-5</a></strong> to <a href='https://wandb.ai/tejas591995/SIFT-SVM-MoVW-3' target=\"_blank\">Weights & Biases</a> (<a href='https://wandb.me/run' target=\"_blank\">docs</a>)<br/>"
      ],
      "text/plain": [
       "<IPython.core.display.HTML object>"
      ]
     },
     "metadata": {},
     "output_type": "display_data"
    },
    {
     "data": {
      "text/html": [
       " View project at <a href='https://wandb.ai/tejas591995/SIFT-SVM-MoVW-3' target=\"_blank\">https://wandb.ai/tejas591995/SIFT-SVM-MoVW-3</a>"
      ],
      "text/plain": [
       "<IPython.core.display.HTML object>"
      ]
     },
     "metadata": {},
     "output_type": "display_data"
    },
    {
     "data": {
      "text/html": [
       " View run at <a href='https://wandb.ai/tejas591995/SIFT-SVM-MoVW-3/runs/rlw9hnn1' target=\"_blank\">https://wandb.ai/tejas591995/SIFT-SVM-MoVW-3/runs/rlw9hnn1</a>"
      ],
      "text/plain": [
       "<IPython.core.display.HTML object>"
      ]
     },
     "metadata": {},
     "output_type": "display_data"
    },
    {
     "name": "stdout",
     "output_type": "stream",
     "text": [
      "C =  0.01  and max_iterations =  2000  Accuracy :  0.8012253917235838\n"
     ]
    },
    {
     "data": {
      "text/html": [
       "Finishing last run (ID:rlw9hnn1) before initializing another..."
      ],
      "text/plain": [
       "<IPython.core.display.HTML object>"
      ]
     },
     "metadata": {},
     "output_type": "display_data"
    },
    {
     "data": {
      "application/vnd.jupyter.widget-view+json": {
       "model_id": "",
       "version_major": 2,
       "version_minor": 0
      },
      "text/plain": [
       "VBox(children=(Label(value='0.001 MB of 0.027 MB uploaded\\r'), FloatProgress(value=0.04421756855639569, max=1.…"
      ]
     },
     "metadata": {},
     "output_type": "display_data"
    },
    {
     "data": {
      "text/html": [
       "<style>\n",
       "    table.wandb td:nth-child(1) { padding: 0 10px; text-align: left ; width: auto;} td:nth-child(2) {text-align: left ; width: 100%}\n",
       "    .wandb-row { display: flex; flex-direction: row; flex-wrap: wrap; justify-content: flex-start; width: 100% }\n",
       "    .wandb-col { display: flex; flex-direction: column; flex-basis: 100%; flex: 1; padding: 10px; }\n",
       "    </style>\n",
       "<div class=\"wandb-row\"><div class=\"wandb-col\"><h3>Run history:</h3><br/><table class=\"wandb\"><tr><td>Accuracy</td><td>▁</td></tr></table><br/></div><div class=\"wandb-col\"><h3>Run summary:</h3><br/><table class=\"wandb\"><tr><td>Accuracy</td><td>0.80123</td></tr></table><br/></div></div>"
      ],
      "text/plain": [
       "<IPython.core.display.HTML object>"
      ]
     },
     "metadata": {},
     "output_type": "display_data"
    },
    {
     "data": {
      "text/html": [
       " View run <strong style=\"color:#cdcd00\">dashing-sun-5</strong> at: <a href='https://wandb.ai/tejas591995/SIFT-SVM-MoVW-3/runs/rlw9hnn1' target=\"_blank\">https://wandb.ai/tejas591995/SIFT-SVM-MoVW-3/runs/rlw9hnn1</a><br/>Synced 6 W&B file(s), 0 media file(s), 0 artifact file(s) and 0 other file(s)"
      ],
      "text/plain": [
       "<IPython.core.display.HTML object>"
      ]
     },
     "metadata": {},
     "output_type": "display_data"
    },
    {
     "data": {
      "text/html": [
       "Find logs at: <code>.\\wandb\\run-20240309_120532-rlw9hnn1\\logs</code>"
      ],
      "text/plain": [
       "<IPython.core.display.HTML object>"
      ]
     },
     "metadata": {},
     "output_type": "display_data"
    },
    {
     "data": {
      "text/html": [
       "Successfully finished last run (ID:rlw9hnn1). Initializing new run:<br/>"
      ],
      "text/plain": [
       "<IPython.core.display.HTML object>"
      ]
     },
     "metadata": {},
     "output_type": "display_data"
    },
    {
     "data": {
      "application/vnd.jupyter.widget-view+json": {
       "model_id": "5794a16a847b44bca5adf4b67913c644",
       "version_major": 2,
       "version_minor": 0
      },
      "text/plain": [
       "VBox(children=(Label(value='Waiting for wandb.init()...\\r'), FloatProgress(value=0.01127777777777131, max=1.0)…"
      ]
     },
     "metadata": {},
     "output_type": "display_data"
    },
    {
     "data": {
      "text/html": [
       "Tracking run with wandb version 0.16.4"
      ],
      "text/plain": [
       "<IPython.core.display.HTML object>"
      ]
     },
     "metadata": {},
     "output_type": "display_data"
    },
    {
     "data": {
      "text/html": [
       "Run data is saved locally in <code>C:\\Users\\hp\\Desktop\\CV\\Assignment_2\\wandb\\run-20240309_122359-mrzboyyd</code>"
      ],
      "text/plain": [
       "<IPython.core.display.HTML object>"
      ]
     },
     "metadata": {},
     "output_type": "display_data"
    },
    {
     "data": {
      "text/html": [
       "Syncing run <strong><a href='https://wandb.ai/tejas591995/SIFT-SVM-MoVW-3/runs/mrzboyyd' target=\"_blank\">lunar-totem-6</a></strong> to <a href='https://wandb.ai/tejas591995/SIFT-SVM-MoVW-3' target=\"_blank\">Weights & Biases</a> (<a href='https://wandb.me/run' target=\"_blank\">docs</a>)<br/>"
      ],
      "text/plain": [
       "<IPython.core.display.HTML object>"
      ]
     },
     "metadata": {},
     "output_type": "display_data"
    },
    {
     "data": {
      "text/html": [
       " View project at <a href='https://wandb.ai/tejas591995/SIFT-SVM-MoVW-3' target=\"_blank\">https://wandb.ai/tejas591995/SIFT-SVM-MoVW-3</a>"
      ],
      "text/plain": [
       "<IPython.core.display.HTML object>"
      ]
     },
     "metadata": {},
     "output_type": "display_data"
    },
    {
     "data": {
      "text/html": [
       " View run at <a href='https://wandb.ai/tejas591995/SIFT-SVM-MoVW-3/runs/mrzboyyd' target=\"_blank\">https://wandb.ai/tejas591995/SIFT-SVM-MoVW-3/runs/mrzboyyd</a>"
      ],
      "text/plain": [
       "<IPython.core.display.HTML object>"
      ]
     },
     "metadata": {},
     "output_type": "display_data"
    },
    {
     "name": "stdout",
     "output_type": "stream",
     "text": [
      "C =  0.01  and max_iterations =  3000  Accuracy :  0.8065488147850542\n"
     ]
    }
   ],
   "source": [
    "C_vals = [0.001,0.01]\n",
    "max_iter_vals = [1000, 2000, 3000]\n",
    "num_clusters = 200\n",
    "\n",
    "for C in C_vals:\n",
    "    for max_iter in max_iter_vals:\n",
    "        model = My_SIFT_SVM(trainset,testset,num_clusters,C,max_iter)\n",
    "        model.train()\n",
    "        acc = model.test()\n",
    "        print(\"C = \",C,\" and max_iterations = \",max_iter,\" Accuracy : \",acc)"
   ]
  },
  {
   "attachments": {
    "image-3.png": {
     "image/png": "[encoded data removed]"
    },
    "image-4.png": {
     "image/png": "[encoded data removed]"
    },
    "image.png": {
     "image/png": "[encoded data removed]"
    }
   },
   "cell_type": "markdown",
   "id": "a597fffa",
   "metadata": {},
   "source": [
    "## Observations and trends in Accuracy\n",
    "\n",
    "![image-3.png](attachment:image-3.png)\n",
    "Observing from the logged parameter importance, we can say that max_iteration has a high neggative correlation with the accuracy, meaning higher max_iterations lead to lower accuracy.\n",
    "\n",
    "- The model might be overfitting on the trainset for larger number of max_iterations, thus yielding a lower accuracy. The model here fails to properly generalize the dataset and captures noise and outliers significantly. \n",
    "\n",
    "- This issue can be solved using higher values of regularization parameter (c). This is also observed in the runs since, for the same value of max_iterations (which overfits the model), a higher (0.01) value of `c` leads to better accuracy as compared to lower (0.001) value of `c`.  \n",
    "\n",
    "### Results : \n",
    "![image-4.png](attachment:image-4.png)\n",
    "\n",
    "Increasing `c` will lead to minimizing the margin while increasing the training error. This prevents the model from overfitting on the train data and helps increase the test accuracy. \n",
    "\n",
    "![image.png](attachment:image.png)\n",
    "\n"
   ]
  },
  {
   "cell_type": "code",
   "execution_count": null,
   "id": "dfacc955",
   "metadata": {},
   "outputs": [],
   "source": []
  }
 ],
 "metadata": {
  "kernelspec": {
   "display_name": "Python 3 (ipykernel)",
   "language": "python",
   "name": "python3"
  },
  "language_info": {
   "codemirror_mode": {
    "name": "ipython",
    "version": 3
   },
   "file_extension": ".py",
   "mimetype": "text/x-python",
   "name": "python",
   "nbconvert_exporter": "python",
   "pygments_lexer": "ipython3",
   "version": "3.11.5"
  }
 },
 "nbformat": 4,
 "nbformat_minor": 5
}
