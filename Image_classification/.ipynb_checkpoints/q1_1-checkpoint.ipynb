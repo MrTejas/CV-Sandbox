{
 "cells": [
  {
   "cell_type": "code",
   "execution_count": 1,
   "metadata": {},
   "outputs": [],
   "source": [
    "# imports\n",
    "import torch\n",
    "import torchvision\n",
    "from torchvision import datasets, transforms\n",
    "from torch.utils.data import DataLoader, TensorDataset\n",
    "from torchvision.utils import make_grid\n",
    "\n",
    "#neural net imports\n",
    "import torch.nn as nn\n",
    "import torch.nn.functional as F\n",
    "import torch.optim as optim\n",
    "from torch.autograd import Variable\n"
   ]
  },
  {
   "cell_type": "code",
   "execution_count": 2,
   "metadata": {},
   "outputs": [],
   "source": [
    "#import external libraries\n",
    "import pandas as pd\n",
    "import numpy as np\n",
    "import matplotlib.pyplot as plt\n",
    "from sklearn.model_selection import train_test_split\n",
    "import os\n",
    "import math\n",
    "import cv2\n",
    "from sklearn.cluster import KMeans\n",
    "from sklearn.svm import SVC\n",
    "from sklearn.metrics import accuracy_score\n",
    "from sklearn.feature_extraction.image import extract_patches_2d\n",
    "from sklearn.decomposition import PCA\n",
    "\n",
    "%matplotlib inline\n"
   ]
  },
  {
   "cell_type": "code",
   "execution_count": 3,
   "metadata": {},
   "outputs": [
    {
     "name": "stdout",
     "output_type": "stream",
     "text": [
      "Running on : cuda\n"
     ]
    }
   ],
   "source": [
    "device = 'cpu'\n",
    "if torch.cuda.is_available():\n",
    "    device = torch.device('cuda')\n",
    "print('Running on :',device)\n",
    "\n",
    "import warnings\n",
    "warnings.filterwarnings(\"ignore\")\n"
   ]
  },
  {
   "cell_type": "markdown",
   "metadata": {},
   "source": [
    "### Defining Variables"
   ]
  },
  {
   "cell_type": "code",
   "execution_count": 4,
   "metadata": {},
   "outputs": [],
   "source": [
    "batch_size = 100"
   ]
  },
  {
   "cell_type": "markdown",
   "metadata": {},
   "source": [
    "### Loading the dataset and applying transform"
   ]
  },
  {
   "cell_type": "code",
   "execution_count": 5,
   "metadata": {},
   "outputs": [
    {
     "name": "stdout",
     "output_type": "stream",
     "text": [
      "Training set size: 60000\n",
      "Test set size: 10000\n"
     ]
    }
   ],
   "source": [
    "# definind transform for the MNIST dataset\n",
    "# converting to tensors and normalize pixel vals with mean 0.5 and std-deviation 0.5\n",
    "transform = transforms.Compose([\n",
    "    transforms.ToTensor(), \n",
    "    transforms.Normalize(mean=(0.5), std=(0.5))\n",
    "])\n",
    "\n",
    "# Download and load the train set\n",
    "trainset = datasets.MNIST('~/.pytorch/MNIST_data/', download=True, train=True, transform=transform)\n",
    "trainloader = torch.utils.data.DataLoader(trainset, batch_size=batch_size, shuffle=True)\n",
    "\n",
    "# Download and load the test set\n",
    "testset = datasets.MNIST('~/.pytorch/MNIST_data/', download=True, train=False, transform=transform)\n",
    "testloader = torch.utils.data.DataLoader(testset, batch_size=batch_size, shuffle=False)\n",
    "\n",
    "print(\"Training set size:\", len(trainset))\n",
    "print(\"Test set size:\", len(testset))\n"
   ]
  },
  {
   "cell_type": "code",
   "execution_count": 6,
   "metadata": {},
   "outputs": [
    {
     "name": "stdout",
     "output_type": "stream",
     "text": [
      "Batch of images shape: torch.Size([100, 1, 28, 28])\n",
      "Batch of labels shape: torch.Size([100])\n"
     ]
    }
   ],
   "source": [
    "# Accessing a batch of data\n",
    "dataiter = iter(trainloader)\n",
    "images, labels = next(dataiter)\n",
    "\n",
    "print(\"Batch of images shape:\", images.shape)\n",
    "print(\"Batch of labels shape:\", labels.shape)\n"
   ]
  },
  {
   "cell_type": "markdown",
   "metadata": {},
   "source": [
    "Shape of each batch : [100, 1, 28, 28]\n",
    "- Num images in each batch : 100\n",
    "- Num channels for each image : 1\n",
    "- Shape of each image : (28,28)"
   ]
  },
  {
   "cell_type": "markdown",
   "metadata": {},
   "source": [
    "### Extracting patches from train-data to form BoVW Vocabulary"
   ]
  },
  {
   "cell_type": "code",
   "execution_count": 7,
   "metadata": {},
   "outputs": [],
   "source": [
    "def extract_patches_from_loader(loader, patch_size=(8, 8), num_patches_per_image=3, random_state=None):\n",
    "    patches = []\n",
    "    for batch_images, _ in loader:\n",
    "        for image in batch_images.numpy():\n",
    "            image_patches = extract_patches_2d(image.squeeze(), patch_size, max_patches=num_patches_per_image, random_state=random_state)\n",
    "            patches.extend(image_patches)\n",
    "    return np.array(patches)\n"
   ]
  },
  {
   "cell_type": "code",
   "execution_count": 8,
   "metadata": {},
   "outputs": [
    {
     "name": "stdout",
     "output_type": "stream",
     "text": [
      "Number of patches extracted: 180000\n",
      "3.0  patches per image\n"
     ]
    }
   ],
   "source": [
    "\n",
    "# Define patch size smaller than MNIST image dimensions\n",
    "patch_size = (12, 12)  # Size of patches\n",
    "num_patches_per_image = 3  # Number of patches per image\n",
    "random_state = 42  # Random state for reproducibility\n",
    "\n",
    "# total_patches = batch_size * num_patches_per_image\n",
    "train_patches = extract_patches_from_loader(trainloader, patch_size=patch_size, num_patches_per_image=num_patches_per_image, random_state=random_state)\n",
    "\n",
    "print(\"Number of patches extracted:\", len(train_patches))\n",
    "print(len(train_patches)/len(trainloader.dataset),' patches per image')"
   ]
  },
  {
   "cell_type": "code",
   "execution_count": 9,
   "metadata": {},
   "outputs": [
    {
     "data": {
      "image/png": "[encoded data removed]",
      "text/plain": [
       "<Figure size 800x500 with 10 Axes>"
      ]
     },
     "metadata": {},
     "output_type": "display_data"
    }
   ],
   "source": [
    "# Select a subset of patches to display\n",
    "num_patches_to_display = 10\n",
    "selected_patches = train_patches[:num_patches_to_display]\n",
    "\n",
    "# Display selected patches\n",
    "plt.figure(figsize=(8, 5))\n",
    "for i in range(num_patches_to_display):\n",
    "    plt.subplot(2, 5, i + 1)\n",
    "    plt.imshow(selected_patches[i], cmap='gray')\n",
    "    plt.axis('off')\n",
    "    plt.title(f'Patch {i + 1}')\n",
    "plt.tight_layout()\n",
    "plt.show()\n"
   ]
  },
  {
   "cell_type": "code",
   "execution_count": 10,
   "metadata": {},
   "outputs": [],
   "source": [
    "def plot_histogram(data, bins=128, title='Histogram', xlabel='Value', ylabel='Frequency'):\n",
    "    plt.hist(data, bins=bins)\n",
    "    plt.title(title)\n",
    "    plt.xlabel(xlabel)\n",
    "    plt.ylabel(ylabel)\n",
    "    plt.grid(True)\n",
    "    plt.show()\n",
    "\n",
    "# gets SIFT descriptor for a single image (patch)\n",
    "def get_sift_feature(image):\n",
    "    gray = image.squeeze().astype(np.uint8)  # Convert to grayscale\n",
    "    sift = cv2.SIFT_create()\n",
    "    keypoints, descriptors = sift.detectAndCompute(gray, None)\n",
    "    # print(descriptors)\n",
    "    return keypoints, descriptors\n",
    "\n",
    "# extracts SIFT features for all the patches\n",
    "def extract_sift_features_from_patches(patches):\n",
    "    patch_sift_features = []\n",
    "    for patch in patches:\n",
    "        keypoints, descriptors = get_sift_feature(patch)\n",
    "        if descriptors is None:\n",
    "            pass\n",
    "#             print('no description found, here is the patch')\n",
    "#             plt.imshow(patch,cmap='gray')\n",
    "#             plt.show()\n",
    "        else:\n",
    "            descriptors = np.squeeze(descriptors[0])\n",
    "#             print((descriptors))\n",
    "            patch_sift_features.append(descriptors)\n",
    "#             plt.imshow(patch,cmap='viridis')\n",
    "#             plt.show()\n",
    "#             plot_histogram(descriptors)\n",
    "#             plt.show()\n",
    "\n",
    "    return patch_sift_features"
   ]
  },
  {
   "cell_type": "markdown",
   "metadata": {},
   "source": [
    "### Extracting SIFT Descriptors for all patches"
   ]
  },
  {
   "cell_type": "code",
   "execution_count": 11,
   "metadata": {
    "scrolled": false
   },
   "outputs": [
    {
     "name": "stdout",
     "output_type": "stream",
     "text": [
      "Collected  7071  patches\n",
      "data : \n",
      " [[ 0.  0.  0. ...  8.  0.  0.]\n",
      " [11.  0.  0. ...  0.  0.  0.]\n",
      " [ 0.  0.  0. ...  3.  0.  0.]\n",
      " ...\n",
      " [ 6.  1.  0. ...  0.  0.  2.]\n",
      " [ 0.  0.  0. ...  4.  3.  1.]\n",
      " [ 0.  0.  0. ...  0.  0.  0.]] \n",
      " with shape  (7071, 128)\n"
     ]
    }
   ],
   "source": [
    "selected_patches = train_patches[:10000]\n",
    "patch_sift_descriptors = extract_sift_features_from_patches(selected_patches)\n",
    "data = np.array(patch_sift_descriptors)\n",
    "print(\"Collected \",data.shape[0],\" patches\")\n",
    "print(\"data : \\n\",data,\"\\n with shape \",data.shape)"
   ]
  },
  {
   "cell_type": "markdown",
   "metadata": {},
   "source": [
    "### Representing few Images as Histograms using SIFT descriptors"
   ]
  },
  {
   "cell_type": "code",
   "execution_count": 12,
   "metadata": {},
   "outputs": [
    {
     "data": {
      "image/png": "[encoded data removed]",
      "text/plain": [
       "<Figure size 1000x1000 with 10 Axes>"
      ]
     },
     "metadata": {},
     "output_type": "display_data"
    }
   ],
   "source": [
    "num_images_to_display = 5\n",
    "selected_images = selected_patches[:num_images_to_display]\n",
    "selected_images_histograms = data[:num_images_to_display]\n",
    "image_height, image_width = 28, 28\n",
    "num_bins = 128\n",
    "\n",
    "# Create subplots\n",
    "fig, axs = plt.subplots(num_images_to_display, 2, figsize=(10, 2 * num_images_to_display))\n",
    "\n",
    "# Plot images and histograms\n",
    "for i in range(num_images_to_display):\n",
    "    # Plot image\n",
    "    axs[i, 0].imshow(selected_images[i], cmap='gray')\n",
    "    axs[i, 0].axis('off')\n",
    "\n",
    "    # Plot histogram\n",
    "    axs[i, 1].bar(np.arange(num_bins), selected_images_histograms[i])\n",
    "    axs[i, 1].set_xlim(0, num_bins)\n",
    "    axs[i, 1].set_ylim(0, np.max(selected_images_histograms))\n",
    "    axs[i, 1].set_xlabel('Bins')\n",
    "    axs[i, 1].set_ylabel('Frequency')\n",
    "\n",
    "# Set titles\n",
    "axs[0, 0].set_title('Visual Words')\n",
    "axs[0, 1].set_title('SIFT Histograms')\n",
    "\n",
    "# Adjust layout\n",
    "plt.tight_layout()\n",
    "\n",
    "# Show plot\n",
    "plt.show()\n"
   ]
  },
  {
   "cell_type": "markdown",
   "metadata": {},
   "source": [
    "### Dimensionality Reduction of SIFT features "
   ]
  },
  {
   "cell_type": "code",
   "execution_count": 15,
   "metadata": {},
   "outputs": [],
   "source": [
    "# # dimensionality reduction using PCA (since many 0s)\n",
    "# n_components = 128\n",
    "# pca = PCA(n_components=n_components)\n",
    "# pca.fit(data)\n",
    "\n",
    "# # Transform the original data to the reduced feature space\n",
    "# reduced_data = pca.transform(data)\n",
    "\n",
    "# print(\"Dimension Reduced Vocabulary : \\n\",reduced_data)\n",
    "# print(\"New dimensions : \",reduced_data.shape)\n",
    "\n",
    "reduced_data = data"
   ]
  },
  {
   "cell_type": "code",
   "execution_count": 16,
   "metadata": {},
   "outputs": [],
   "source": [
    "def plotClusterd2D(data,cluster_centers,labels):\n",
    "    k = cluster_centers.shape[0]\n",
    "    if(data.shape[1]!=2):\n",
    "#         print(\"Dimension!=2, cannot visualize clusters.\")\n",
    "        return\n",
    "    \n",
    "    # Plot the clusters\n",
    "    plt.figure(figsize=(8, 6))\n",
    "\n",
    "    # Plot data points and centers\n",
    "    for i in range(k):\n",
    "        plt.scatter(data[labels == i, 0], data[labels == i, 1], label=f\"Cluster {i}\", marker='.')\n",
    "    plt.scatter(cluster_centers[:, 0], cluster_centers[:, 1], marker='x', color='black', label='Cluster Centers')\n",
    "\n",
    "    plt.xlabel('Feature 1')\n",
    "    plt.ylabel('Feature 2')\n",
    "    plt.title('K-Means Clustering for 2-d features')\n",
    "#     plt.legend()\n",
    "    plt.show()"
   ]
  },
  {
   "cell_type": "markdown",
   "metadata": {},
   "source": [
    "### Performing k-means clustering for reduced dimension dataset"
   ]
  },
  {
   "cell_type": "code",
   "execution_count": 21,
   "metadata": {
    "scrolled": true
   },
   "outputs": [
    {
     "name": "stdout",
     "output_type": "stream",
     "text": [
      "Cluster Centers : \n",
      " [[ 1.12499928e+00  1.09999990e+00  2.50000000e-01 ... -4.76837158e-07\n",
      "   0.00000000e+00  0.00000000e+00]\n",
      " [ 2.88000011e+00  3.16000032e+00  1.84000015e+00 ...  0.00000000e+00\n",
      "   0.00000000e+00  4.00004387e-02]\n",
      " [-9.53674316e-07  0.00000000e+00  1.06923075e+01 ...  0.00000000e+00\n",
      "   7.69231319e-02  1.11538434e+00]\n",
      " ...\n",
      " [ 1.60588226e+01  3.70588231e+00  3.88235283e+00 ...  0.00000000e+00\n",
      "   2.38418579e-07  0.00000000e+00]\n",
      " [ 1.66666651e+00  1.11111164e-01  6.66666985e-01 ...  2.66666675e+00\n",
      "   9.11111069e+00  1.52222214e+01]\n",
      " [ 5.84210491e+00  9.73684216e+00  8.57894707e+00 ... -2.38418579e-07\n",
      "   1.57895088e-01  0.00000000e+00]]\n"
     ]
    }
   ],
   "source": [
    "# Perform k-means clustering\n",
    "\n",
    "# number of clusters denote the size of vocabulary for BoVW representation\n",
    "k = 300  # Number of clusters\n",
    "kmeans = KMeans(n_clusters=k, random_state=0)\n",
    "labels = kmeans.fit_predict(reduced_data)\n",
    "cluster_centers = kmeans.cluster_centers_\n",
    "print(\"Cluster Centers : \\n\",cluster_centers)\n",
    "\n",
    "plotClusterd2D(reduced_data,cluster_centers,labels)\n"
   ]
  },
  {
   "cell_type": "markdown",
   "metadata": {},
   "source": [
    "Each cluster represents a type of patch. "
   ]
  },
  {
   "cell_type": "code",
   "execution_count": 24,
   "metadata": {},
   "outputs": [
    {
     "data": {
      "image/png": "[encoded data removed]",
      "text/plain": [
       "<Figure size 1200x300 with 6 Axes>"
      ]
     },
     "metadata": {},
     "output_type": "display_data"
    }
   ],
   "source": [
    "image_height, image_width, num_channels = 28, 28, 1\n",
    "\n",
    "j = 124\n",
    "indices_label_j = np.where(labels == j)[0]\n",
    "\n",
    "N = 6\n",
    "num_images_to_display = min(N, len(indices_label_j))\n",
    "fig, axs = plt.subplots(1, num_images_to_display, figsize=(12, 3))\n",
    "\n",
    "for i in range(num_images_to_display):\n",
    "    image_index = indices_label_j[i]\n",
    "    image = selected_patches[image_index]\n",
    "    axs[i].imshow(image)\n",
    "    axs[i].axis('off')\n",
    "    axs[i].set_title(f\"Image {image_index}, Label {labels[image_index]}\")\n",
    "\n",
    "plt.tight_layout()\n",
    "plt.show()\n"
   ]
  },
  {
   "cell_type": "markdown",
   "metadata": {},
   "source": [
    "## Preparing the dataset X_train, y_train,X_test, y_test\n",
    "\n",
    "- Extracting $p$ patches from each image in X_train\n",
    "- Finding out the SIFT descriptors of each patch\n",
    "- Finding out the cluster center of each descriptor (representing the visual word of the patch)\n",
    "- Appending the cluster-centers of each of the patch to form the features [histogram]\n"
   ]
  },
  {
   "cell_type": "markdown",
   "metadata": {},
   "source": [
    "### For trainset"
   ]
  },
  {
   "cell_type": "code",
   "execution_count": 33,
   "metadata": {},
   "outputs": [],
   "source": [
    "# Initialize empty lists to store images and labels\n",
    "train_images_list = []\n",
    "train_labels_list = []\n",
    "\n",
    "# Iterate through the trainloader to collect images and labels\n",
    "for images, labels in trainloader:\n",
    "    train_images_list.append(np.transpose(images.numpy(), (0, 2, 3, 1)))\n",
    "    train_labels_list.append(labels.numpy())\n",
    "\n",
    "# Concatenate the lists to obtain numpy arrays\n",
    "train_images_np = np.concatenate(train_images_list)\n",
    "train_labels_np = np.concatenate(train_labels_list)\n"
   ]
  },
  {
   "cell_type": "code",
   "execution_count": null,
   "metadata": {},
   "outputs": [],
   "source": []
  },
  {
   "cell_type": "code",
   "execution_count": 70,
   "metadata": {
    "scrolled": false
   },
   "outputs": [],
   "source": [
    "def getFeatureVector(image, p):\n",
    "    # Get image dimensions\n",
    "    h, w = image.shape[:2]\n",
    "    \n",
    "    # Calculate the center coordinates\n",
    "    center_h, center_w = h // 2, w // 2\n",
    "    \n",
    "    # Calculate patch size\n",
    "    patch_size = min(h, w) // 3\n",
    "    \n",
    "    # Calculate patch starting coordinates\n",
    "    patch_h_start = 0\n",
    "    patch_w_start = 0\n",
    "    \n",
    "    # Extract patches using extract_patches_2d\n",
    "    patches = extract_patches_2d(image[patch_h_start:], (patch_size, patch_size), max_patches=3*p, random_state=42)\n",
    "    print(patches.shape,\" patches extracted\")\n",
    "    \n",
    "    # Initialize list to store SIFT features\n",
    "    sift_features = []\n",
    "    \n",
    "    count = 0\n",
    "    # get p descriptors in total for each image, some might fail, thus consider 2p patches and hope to get p descriptors atleast\n",
    "    for patch in patches:\n",
    "        keypoints, patch_sift = get_sift_feature(patch)\n",
    "        if patch_sift is not None:\n",
    "            sift_features.extend(patch_sift)\n",
    "            count = count + 1\n",
    "            print(\"descriptor found\")\n",
    "            if count==p:\n",
    "                break\n",
    "    print(len(sift_features))\n",
    "    \n",
    "    # Concatenate SIFT features into a single feature vector\n",
    "    sift_features_concat = np.concatenate(sift_features)\n",
    "    \n",
    "    return sift_features_concat\n"
   ]
  },
  {
   "cell_type": "code",
   "execution_count": 71,
   "metadata": {
    "scrolled": false
   },
   "outputs": [
    {
     "name": "stdout",
     "output_type": "stream",
     "text": [
      "(36, 9, 9)  patches extracted\n",
      "descriptor found\n",
      "descriptor found\n",
      "descriptor found\n",
      "descriptor found\n",
      "descriptor found\n",
      "descriptor found\n",
      "descriptor found\n",
      "descriptor found\n",
      "descriptor found\n",
      "descriptor found\n",
      "descriptor found\n",
      "descriptor found\n",
      "15\n"
     ]
    }
   ],
   "source": [
    "X_train = []\n",
    "for train_image in train_images_np:\n",
    "    features = getFeatureVector(train_image,12)\n",
    "    X_train.append(features)\n",
    "    break"
   ]
  },
  {
   "cell_type": "code",
   "execution_count": null,
   "metadata": {},
   "outputs": [],
   "source": []
  },
  {
   "cell_type": "code",
   "execution_count": null,
   "metadata": {},
   "outputs": [],
   "source": []
  },
  {
   "cell_type": "code",
   "execution_count": null,
   "metadata": {},
   "outputs": [],
   "source": []
  },
  {
   "cell_type": "code",
   "execution_count": null,
   "metadata": {},
   "outputs": [],
   "source": []
  },
  {
   "cell_type": "code",
   "execution_count": null,
   "metadata": {},
   "outputs": [],
   "source": []
  },
  {
   "cell_type": "code",
   "execution_count": 18,
   "metadata": {},
   "outputs": [
    {
     "name": "stdout",
     "output_type": "stream",
     "text": [
      "Shape of X_train: (59764, 128)\n",
      "Shape of y_train: (59764,)\n"
     ]
    }
   ],
   "source": [
    "# Initialize lists to store features and labels\n",
    "X_train = []\n",
    "y_train = []\n",
    "\n",
    "# Extract SIFT descriptors and labels\n",
    "for images, labels in trainloader:\n",
    "    for image, label in zip(images, labels):\n",
    "        # Convert PyTorch tensor to numpy array\n",
    "        image_np = image.squeeze().numpy()\n",
    "        \n",
    "        # Extract SIFT features\n",
    "        keypoints, descriptors = get_sift_feature(image_np)\n",
    "        \n",
    "        # If SIFT descriptors are found\n",
    "        if descriptors is not None:\n",
    "            descriptors = np.squeeze(descriptors[0])\n",
    "            # Store SIFT descriptors and labels\n",
    "            X_train.append(descriptors)\n",
    "            y_train.append(label.item())  # Convert label tensor to scalar and append to list\n",
    "\n",
    "# Convert lists to numpy arrays\n",
    "X_train = np.vstack(X_train)\n",
    "y_train = np.array(y_train)\n",
    "\n",
    "# Print the shapes of X_train and y_train\n",
    "print(\"Shape of X_train:\", X_train.shape)\n",
    "print(\"Shape of y_train:\", y_train.shape)\n"
   ]
  },
  {
   "cell_type": "code",
   "execution_count": 19,
   "metadata": {},
   "outputs": [
    {
     "name": "stdout",
     "output_type": "stream",
     "text": [
      "Accuracy: 0.41512590981343594\n"
     ]
    }
   ],
   "source": [
    "import numpy as np\n",
    "from sklearn.svm import LinearSVC\n",
    "from sklearn.model_selection import train_test_split\n",
    "from sklearn.metrics import accuracy_score\n",
    "\n",
    "# Assuming you have X_train (SIFT descriptors) and y_train (labels) from the previous code\n",
    "\n",
    "# Split the dataset into training and testing sets\n",
    "X_train, X_test, y_train, y_test = train_test_split(X_train, y_train, test_size=0.2, random_state=42)\n",
    "\n",
    "# Initialize the linear SVM classifier\n",
    "svm_clf = LinearSVC()\n",
    "\n",
    "# Train the classifier\n",
    "svm_clf.fit(X_train, y_train)\n",
    "\n",
    "# Predict the labels for the test set\n",
    "y_pred = svm_clf.predict(X_test)\n",
    "\n",
    "# Calculate the accuracy\n",
    "accuracy = accuracy_score(y_test, y_pred)\n",
    "print(\"Accuracy:\", accuracy)\n"
   ]
  },
  {
   "cell_type": "code",
   "execution_count": 21,
   "metadata": {},
   "outputs": [
    {
     "ename": "NameError",
     "evalue": "name 'test_features' is not defined",
     "output_type": "error",
     "traceback": [
      "\u001b[1;31m---------------------------------------------------------------------------\u001b[0m",
      "\u001b[1;31mNameError\u001b[0m                                 Traceback (most recent call last)",
      "Cell \u001b[1;32mIn[21], line 11\u001b[0m\n\u001b[0;32m      8\u001b[0m svm_classifier\u001b[38;5;241m.\u001b[39mfit(train_features_cuda\u001b[38;5;241m.\u001b[39mcpu(), train_labels_cuda\u001b[38;5;241m.\u001b[39mcpu())\n\u001b[0;32m     10\u001b[0m \u001b[38;5;66;03m# Predict labels for the test set\u001b[39;00m\n\u001b[1;32m---> 11\u001b[0m predicted_labels \u001b[38;5;241m=\u001b[39m svm_classifier\u001b[38;5;241m.\u001b[39mpredict(test_features)\n\u001b[0;32m     13\u001b[0m \u001b[38;5;66;03m# Calculate accuracy\u001b[39;00m\n\u001b[0;32m     14\u001b[0m accuracy \u001b[38;5;241m=\u001b[39m accuracy_score(y_test, predicted_labels)\n",
      "\u001b[1;31mNameError\u001b[0m: name 'test_features' is not defined"
     ]
    }
   ],
   "source": [
    "\n",
    "# Move the data to the GPU if available\n",
    "train_features_cuda = torch.tensor(X_train, device=device)\n",
    "train_labels_cuda = torch.tensor(y_train, device=device)\n",
    "test_features_cuda = torch.tensor(X_test, device=device)\n",
    "\n",
    "# Train a linear SVM classifier on GPU\n",
    "svm_classifier = LinearSVC(random_state=42)\n",
    "svm_classifier.fit(train_features_cuda.cpu(), train_labels_cuda.cpu())\n"
   ]
  },
  {
   "cell_type": "code",
   "execution_count": 22,
   "metadata": {},
   "outputs": [
    {
     "name": "stdout",
     "output_type": "stream",
     "text": [
      "Accuracy: 0.4495105831172091\n"
     ]
    }
   ],
   "source": [
    "\n",
    "# Predict labels for the test set\n",
    "predicted_labels = svm_classifier.predict(X_test)\n",
    "\n",
    "# Calculate accuracy\n",
    "accuracy = accuracy_score(y_test, predicted_labels)\n",
    "print(\"Accuracy:\", accuracy)\n"
   ]
  },
  {
   "cell_type": "code",
   "execution_count": null,
   "metadata": {},
   "outputs": [],
   "source": []
  }
 ],
 "metadata": {
  "kernelspec": {
   "display_name": "Python 3 (ipykernel)",
   "language": "python",
   "name": "python3"
  },
  "language_info": {
   "codemirror_mode": {
    "name": "ipython",
    "version": 3
   },
   "file_extension": ".py",
   "mimetype": "text/x-python",
   "name": "python",
   "nbconvert_exporter": "python",
   "pygments_lexer": "ipython3",
   "version": "3.11.5"
  }
 },
 "nbformat": 4,
 "nbformat_minor": 2
}
